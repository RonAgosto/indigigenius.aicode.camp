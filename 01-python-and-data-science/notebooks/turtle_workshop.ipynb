{
 "cells": [
  {
   "cell_type": "code",
   "execution_count": null,
   "metadata": {},
   "outputs": [],
   "source": [
    "from mobilechelonian import Turtle\n",
    "t = Turtle()\n",
    "\n",
    "\n",
    "# t.speed(5)\n",
    "# colours=[\"red\",\"blue\",\"yellow\",\"brown\",\"black\",\"purple\",\"green\"]\n",
    "\n",
    "# t.penup()\n",
    "# t.left(90)\n",
    "# t.forward(200)\n",
    "# t.right(90)\n",
    "# t.pendown()\n",
    "\n",
    "# for i in range (0,18):\n",
    "#     t.pencolor(colours[i%7])\n",
    "#     t.right(20)\n",
    "#     t.forward(50)\n",
    "\n",
    "# t.right(180)\n",
    "# t.penup()\n",
    "# t.home()\n",
    "\n",
    "\n",
    "# while True:\n",
    "#     inp = input(\"What do you want your turtle to do?\")\n",
    "    \n",
    "#     if inp == \"left\":\n",
    "#         t.left(90)\n",
    "#     elif inp == \"right\":\n",
    "#         t.right(90)\n",
    "#     elif inp == \"forward\":\n",
    "#         t.forward(10)\n",
    "#     elif inp == \"end\":\n",
    "#         continue\n",
    "\n",
    "t.goto(5, 5)\n"
   ]
  },
  {
   "cell_type": "markdown",
   "metadata": {},
   "source": [
    "# Turtle Commands\n",
    "1. t.left(n), t.right(n): Turn the turtle n degrees to the left or to the right\n",
    "2. t.forward(n): Move the turtle n units forward\n",
    "3. t.penup(): Moves following this command will not draw on the screen\n",
    "4. t.pendown(): \"Puts the pen back down\" after a t.penup() command\n",
    "5. t.pencolor(color_string): Changes the pen color to the given color_string\n",
    "6. t.home(): Returns Turtle to the (0, 0) location"
   ]
  },
  {
   "cell_type": "markdown",
   "metadata": {},
   "source": [
    "# Turtle Challenges\n",
    "1. Draw a square\n",
    "2. Draw a star\n",
    "3. Draw a starquilt outline\n",
    "4. Draw a dreamcatcher\n",
    "5. Draw something awesome"
   ]
  },
  {
   "cell_type": "markdown",
   "metadata": {},
   "source": [
    "# Turtle Function Challenges\n",
    "1. Draw a 3*3 grid of:\n",
    "* Squares\n",
    "* Stars\n",
    "2. Create a function for `n` pointed stars, I've started this for you below."
   ]
  },
  {
   "cell_type": "code",
   "execution_count": null,
   "metadata": {},
   "outputs": [],
   "source": [
    "import turtle\n",
    "\n",
    "window = turtle.Screen()\n",
    "window.setup(width=800, height=600)\n",
    "\n",
    "t = turtle.Turtle()\n",
    "\n",
    "def draw_square(side_length):\n",
    "    for i in range(4):\n",
    "        t.forward(side_length)\n",
    "        t.right(90)\n",
    "\n",
    "side_length = 50\n",
    "spacing = 20\n",
    "for row in range(3):\n",
    "    for col in range(3):\n",
    "        draw_square(side_length)\n",
    "        t.penup()\n",
    "        t.forward(side_length + spacing)\n",
    "        t.pendown()\n",
    "    t.penup()\n",
    "    t.backward((side_length + spacing) * 3)  \n",
    "    t.right(90)\n",
    "    t.forward(side_length + spacing) \n",
    "    t.left(90)\n",
    "    t.pendown()\n",
    "    \n",
    "for i in range (4):\n",
    "    t.forward(220)\n",
    "    t.left(90)\n",
    "    t.penup()\n",
    "    \n",
    "    t.pendown()\n",
    "    t.forward(240)\n",
    "    t.left(90)\n",
    "    t.pendown()\n",
    "    \n",
    "t.speed(2)\n",
    "t.color(\"blue\")\n",
    "\n",
    "   \n",
    "window.mainloop()"
   ]
  },
  {
   "cell_type": "code",
   "execution_count": 1,
   "metadata": {},
   "outputs": [],
   "source": [
    "def n_pointed_star(t, n):\n",
    "    # Draw Star Here\n",
    "    pass"
   ]
  },
  {
   "cell_type": "code",
   "execution_count": null,
   "metadata": {},
   "outputs": [],
   "source": [
    "import turtle\n",
    "\n",
    "window = turtle.Screen()\n",
    "window.setup(width=800, height=600)\n",
    "\n",
    "t = turtle.Turtle()\n",
    "\n",
    "def square(self, center_x, center_y, side_length):\n",
    "    def draw_square(side_length):\n",
    "    for i in range(4):\n",
    "        t.forward(side_length)\n",
    "        t.right(90)\n",
    "\n",
    "side_length = 200\n",
    "spacing = 20\n",
    "for row in range(1):\n",
    "    for col in range(1):\n",
    "        draw_square(side_length)\n",
    "        t.penup()\n",
    "        t.forward(side_length + spacing)\n",
    "        t.pendown()\n",
    "    t.penup()"
   ]
  },
  {
   "cell_type": "code",
   "execution_count": 1,
   "metadata": {},
   "outputs": [],
   "source": [
    "import turtle\n",
    "\n",
    "window = turtle.Screen()\n",
    "window.setup(width=800, height=600)\n",
    "\n",
    "t = turtle.Turtle()\n",
    "\n",
    "def rectangle(self, center_x, center_y, width=20, height=40):\n",
    "    self.pendown()\n",
    "    top_left_x = center_x - width/2\n",
    "    top_left_y = center_y + height/2\n",
    "    self.setposition(top_left_x, top_left_y)\n",
    "\n",
    "    self.setheading(0)\n",
    "\n",
    "    self.pendown()\n",
    "    self.forward(width)\n",
    "    self.right(90)\n",
    "    self.forward(height)\n",
    "    self.right(90)\n",
    "    self.forward(width)\n",
    "    self.right(90)\n",
    "    self.forward(height)\n",
    "    self.right(90)\n",
    "    self.penup()\n",
    "\n",
    "def line(self, x1, y1, x2, y2):\n",
    "    self.pendown()\n",
    "    self.setposition(x1, y1)\n",
    "    self.pendown()\n",
    "    self.setposition(x2, y2)\n",
    "    self.penup()\n",
    "\n",
    "window.mainloop()"
   ]
  },
  {
   "cell_type": "code",
   "execution_count": null,
   "metadata": {},
   "outputs": [],
   "source": []
  },
  {
   "cell_type": "code",
   "execution_count": null,
   "metadata": {},
   "outputs": [],
   "source": []
  }
 ],
 "metadata": {
  "kernelspec": {
   "display_name": "Python 3 (ipykernel)",
   "language": "python",
   "name": "python3"
  },
  "language_info": {
   "codemirror_mode": {
    "name": "ipython",
    "version": 3
   },
   "file_extension": ".py",
   "mimetype": "text/x-python",
   "name": "python",
   "nbconvert_exporter": "python",
   "pygments_lexer": "ipython3",
   "version": "3.12.4"
  },
  "vscode": {
   "interpreter": {
    "hash": "7fb7ad0f8a82f954bb85aafe9ace17708734a683d44db0d426f239eb44ff10c0"
   }
  }
 },
 "nbformat": 4,
 "nbformat_minor": 4
}
